{
 "cells": [
  {
   "cell_type": "markdown",
   "metadata": {},
   "source": [
    "<div align='center'> <b> <span style='color:#006600;'> <h1> ASSIGNMENT WEEK 7 - AGGREGATING DATA </h1> </span> </b> </div>"
   ]
  },
  {
   "cell_type": "markdown",
   "metadata": {},
   "source": [
    "<b><h1> IS362 - Assignment 7 </h1><h4>Name:Rickardo Henry</b> \n",
    "\n",
    "Choose six recent popular movies. Ask at least five people that you know (friends, family, classmates, imaginary friends) to rate each of these movies that they have seen on a scale of 1 to 5. There should be at least one movie that not everyone has seen! Take the results (observations) and store them somewhere (like a SQL database, or a .CSV file). Load the information into a pandas dataframe. Your solution should include Python and pandas code that accomplishes the following:\n",
    "    <ul style=\"list-style-type:disc\">\n",
    "  <li>Load the ratings by user information that you collected into a pandas dataframe.</li>\n",
    "  <li>Show the average ratings for each user and each movie.</li>\n",
    "  <li>Provide a text-based conclusion: explain what might be advantages and disadvantages of using normalized ratings instead of the actual ratings.</li>\n",
    "  <li>Provide a text-based conclusion: explain what might be advantages and disadvantages of using normalized ratings instead of the actual ratings.</li>\n",
    "  <li>[Extra credit] Create another new pandas dataframe, with standardized ratings for each user. Once again, show the average ratings for each user and each movie.</li>\n",
    "</ul>\n",
    "    \n",
    "<b> As usual lets begin by importing the pandas and numpy modules. </b>"
   ]
  },
  {
   "cell_type": "code",
   "execution_count": 49,
   "metadata": {},
   "outputs": [
    {
     "data": {
      "text/html": [
       "<div>\n",
       "<style>\n",
       "    .dataframe thead tr:only-child th {\n",
       "        text-align: right;\n",
       "    }\n",
       "\n",
       "    .dataframe thead th {\n",
       "        text-align: left;\n",
       "    }\n",
       "\n",
       "    .dataframe tbody tr th {\n",
       "        vertical-align: top;\n",
       "    }\n",
       "</style>\n",
       "<table border=\"1\" class=\"dataframe\">\n",
       "  <thead>\n",
       "    <tr style=\"text-align: right;\">\n",
       "      <th></th>\n",
       "      <th>Wonder Woman</th>\n",
       "      <th>Girls Trip</th>\n",
       "      <th>Power Rangers</th>\n",
       "      <th>Planet of the Apes</th>\n",
       "      <th>Beauty and the Beast</th>\n",
       "      <th>Fast and The Furious</th>\n",
       "    </tr>\n",
       "  </thead>\n",
       "  <tbody>\n",
       "    <tr>\n",
       "      <th>Adriel</th>\n",
       "      <td>3.0</td>\n",
       "      <td>NaN</td>\n",
       "      <td>5.0</td>\n",
       "      <td>5.0</td>\n",
       "      <td>2</td>\n",
       "      <td>5</td>\n",
       "    </tr>\n",
       "    <tr>\n",
       "      <th>Adalyz</th>\n",
       "      <td>5.0</td>\n",
       "      <td>4.0</td>\n",
       "      <td>3.0</td>\n",
       "      <td>NaN</td>\n",
       "      <td>5</td>\n",
       "      <td>4</td>\n",
       "    </tr>\n",
       "    <tr>\n",
       "      <th>Carmen</th>\n",
       "      <td>5.0</td>\n",
       "      <td>5.0</td>\n",
       "      <td>NaN</td>\n",
       "      <td>3.0</td>\n",
       "      <td>4</td>\n",
       "      <td>3</td>\n",
       "    </tr>\n",
       "    <tr>\n",
       "      <th>Jack</th>\n",
       "      <td>NaN</td>\n",
       "      <td>3.0</td>\n",
       "      <td>5.0</td>\n",
       "      <td>5.0</td>\n",
       "      <td>3</td>\n",
       "      <td>5</td>\n",
       "    </tr>\n",
       "    <tr>\n",
       "      <th>Alex</th>\n",
       "      <td>NaN</td>\n",
       "      <td>3.0</td>\n",
       "      <td>4.0</td>\n",
       "      <td>5.0</td>\n",
       "      <td>3</td>\n",
       "      <td>5</td>\n",
       "    </tr>\n",
       "  </tbody>\n",
       "</table>\n",
       "</div>"
      ],
      "text/plain": [
       "        Wonder Woman  Girls Trip   Power Rangers  Planet of the Apes  \\\n",
       "Adriel           3.0          NaN            5.0                 5.0   \n",
       "Adalyz           5.0          4.0            3.0                 NaN   \n",
       "Carmen           5.0          5.0            NaN                 3.0   \n",
       "Jack             NaN          3.0            5.0                 5.0   \n",
       "Alex             NaN          3.0            4.0                 5.0   \n",
       "\n",
       "        Beauty and the Beast   Fast and The Furious  \n",
       "Adriel                      2                     5  \n",
       "Adalyz                      5                     4  \n",
       "Carmen                      4                     3  \n",
       "Jack                        3                     5  \n",
       "Alex                        3                     5  "
      ]
     },
     "execution_count": 49,
     "metadata": {},
     "output_type": "execute_result"
    }
   ],
   "source": [
    "import pandas as pd\n",
    "import numpy as np\n",
    "\n",
    "reviews = pd.read_csv('https://raw.githubusercontent.com/eliz79/IS362_Assignment7/master/movie_reviews.csv', index_col = 0)\n",
    "reviews.head() #reads the .csv data while setting the first rows as a header "
   ]
  },
  {
   "cell_type": "markdown",
   "metadata": {},
   "source": [
    "<b> Replacing blank values with '0' for easier viewing in the entire dataframe. </b>"
   ]
  },
  {
   "cell_type": "code",
   "execution_count": 50,
   "metadata": {},
   "outputs": [
    {
     "data": {
      "text/html": [
       "<div>\n",
       "<style>\n",
       "    .dataframe thead tr:only-child th {\n",
       "        text-align: right;\n",
       "    }\n",
       "\n",
       "    .dataframe thead th {\n",
       "        text-align: left;\n",
       "    }\n",
       "\n",
       "    .dataframe tbody tr th {\n",
       "        vertical-align: top;\n",
       "    }\n",
       "</style>\n",
       "<table border=\"1\" class=\"dataframe\">\n",
       "  <thead>\n",
       "    <tr style=\"text-align: right;\">\n",
       "      <th></th>\n",
       "      <th>Wonder Woman</th>\n",
       "      <th>Girls Trip</th>\n",
       "      <th>Power Rangers</th>\n",
       "      <th>Planet of the Apes</th>\n",
       "      <th>Beauty and the Beast</th>\n",
       "      <th>Fast and The Furious</th>\n",
       "    </tr>\n",
       "  </thead>\n",
       "  <tbody>\n",
       "    <tr>\n",
       "      <th>Adriel</th>\n",
       "      <td>3.0</td>\n",
       "      <td>0.0</td>\n",
       "      <td>5.0</td>\n",
       "      <td>5.0</td>\n",
       "      <td>2</td>\n",
       "      <td>5</td>\n",
       "    </tr>\n",
       "    <tr>\n",
       "      <th>Adalyz</th>\n",
       "      <td>5.0</td>\n",
       "      <td>4.0</td>\n",
       "      <td>3.0</td>\n",
       "      <td>0.0</td>\n",
       "      <td>5</td>\n",
       "      <td>4</td>\n",
       "    </tr>\n",
       "    <tr>\n",
       "      <th>Carmen</th>\n",
       "      <td>5.0</td>\n",
       "      <td>5.0</td>\n",
       "      <td>0.0</td>\n",
       "      <td>3.0</td>\n",
       "      <td>4</td>\n",
       "      <td>3</td>\n",
       "    </tr>\n",
       "    <tr>\n",
       "      <th>Jack</th>\n",
       "      <td>0.0</td>\n",
       "      <td>3.0</td>\n",
       "      <td>5.0</td>\n",
       "      <td>5.0</td>\n",
       "      <td>3</td>\n",
       "      <td>5</td>\n",
       "    </tr>\n",
       "    <tr>\n",
       "      <th>Alex</th>\n",
       "      <td>0.0</td>\n",
       "      <td>3.0</td>\n",
       "      <td>4.0</td>\n",
       "      <td>5.0</td>\n",
       "      <td>3</td>\n",
       "      <td>5</td>\n",
       "    </tr>\n",
       "  </tbody>\n",
       "</table>\n",
       "</div>"
      ],
      "text/plain": [
       "        Wonder Woman  Girls Trip   Power Rangers  Planet of the Apes  \\\n",
       "Adriel           3.0          0.0            5.0                 5.0   \n",
       "Adalyz           5.0          4.0            3.0                 0.0   \n",
       "Carmen           5.0          5.0            0.0                 3.0   \n",
       "Jack             0.0          3.0            5.0                 5.0   \n",
       "Alex             0.0          3.0            4.0                 5.0   \n",
       "\n",
       "        Beauty and the Beast   Fast and The Furious  \n",
       "Adriel                      2                     5  \n",
       "Adalyz                      5                     4  \n",
       "Carmen                      4                     3  \n",
       "Jack                        3                     5  \n",
       "Alex                        3                     5  "
      ]
     },
     "execution_count": 50,
     "metadata": {},
     "output_type": "execute_result"
    }
   ],
   "source": [
    "reviews.replace(np.NaN, 0)"
   ]
  },
  {
   "cell_type": "markdown",
   "metadata": {},
   "source": [
    "<b> Now lets display the average ratings for each user. </b>"
   ]
  },
  {
   "cell_type": "code",
   "execution_count": 51,
   "metadata": {},
   "outputs": [
    {
     "data": {
      "text/plain": [
       "Adriel    4.0\n",
       "Adalyz    4.2\n",
       "Carmen    4.0\n",
       "Jack      4.2\n",
       "Alex      4.0\n",
       "dtype: float64"
      ]
     },
     "execution_count": 51,
     "metadata": {},
     "output_type": "execute_result"
    }
   ],
   "source": [
    "reviews.mean(axis = 1)"
   ]
  },
  {
   "cell_type": "markdown",
   "metadata": {},
   "source": [
    "<b> Now lets display the average ratings for each movie. </b>"
   ]
  },
  {
   "cell_type": "code",
   "execution_count": 52,
   "metadata": {},
   "outputs": [
    {
     "data": {
      "text/plain": [
       "Wonder Woman             4.333333\n",
       "Girls Trip               3.750000\n",
       "Power Rangers            4.250000\n",
       "Planet of the Apes       4.500000\n",
       "Beauty and the Beast     3.400000\n",
       "Fast and The Furious     4.400000\n",
       "dtype: float64"
      ]
     },
     "execution_count": 52,
     "metadata": {},
     "output_type": "execute_result"
    }
   ],
   "source": [
    "reviews.mean() #you can get the same results if the axis = 0 "
   ]
  },
  {
   "cell_type": "markdown",
   "metadata": {},
   "source": [
    "<b> Now lets look a the same data but normalized. \n",
    "We will begin by reading the data from the same .csv file, then show the average rating for each user average and movie.</b>"
   ]
  },
  {
   "cell_type": "markdown",
   "metadata": {},
   "source": [
    "<b><hr></b>"
   ]
  },
  {
   "cell_type": "markdown",
   "metadata": {
    "collapsed": true
   },
   "source": [
    "<h1> NORMALIZED DATA </h1>"
   ]
  },
  {
   "cell_type": "code",
   "execution_count": 53,
   "metadata": {},
   "outputs": [
    {
     "data": {
      "text/html": [
       "<div>\n",
       "<style>\n",
       "    .dataframe thead tr:only-child th {\n",
       "        text-align: right;\n",
       "    }\n",
       "\n",
       "    .dataframe thead th {\n",
       "        text-align: left;\n",
       "    }\n",
       "\n",
       "    .dataframe tbody tr th {\n",
       "        vertical-align: top;\n",
       "    }\n",
       "</style>\n",
       "<table border=\"1\" class=\"dataframe\">\n",
       "  <thead>\n",
       "    <tr style=\"text-align: right;\">\n",
       "      <th></th>\n",
       "      <th>Wonder Woman</th>\n",
       "      <th>Girls Trip</th>\n",
       "      <th>Power Rangers</th>\n",
       "      <th>Planet of the Apes</th>\n",
       "      <th>Beauty and the Beast</th>\n",
       "      <th>Fast and The Furious</th>\n",
       "    </tr>\n",
       "  </thead>\n",
       "  <tbody>\n",
       "    <tr>\n",
       "      <th>Adriel</th>\n",
       "      <td>0.0</td>\n",
       "      <td>NaN</td>\n",
       "      <td>1.0</td>\n",
       "      <td>1.0</td>\n",
       "      <td>0.000000</td>\n",
       "      <td>1.0</td>\n",
       "    </tr>\n",
       "    <tr>\n",
       "      <th>Adalyz</th>\n",
       "      <td>1.0</td>\n",
       "      <td>0.5</td>\n",
       "      <td>0.0</td>\n",
       "      <td>NaN</td>\n",
       "      <td>1.000000</td>\n",
       "      <td>0.5</td>\n",
       "    </tr>\n",
       "    <tr>\n",
       "      <th>Carmen</th>\n",
       "      <td>1.0</td>\n",
       "      <td>1.0</td>\n",
       "      <td>NaN</td>\n",
       "      <td>0.0</td>\n",
       "      <td>0.666667</td>\n",
       "      <td>0.0</td>\n",
       "    </tr>\n",
       "    <tr>\n",
       "      <th>Jack</th>\n",
       "      <td>NaN</td>\n",
       "      <td>0.0</td>\n",
       "      <td>1.0</td>\n",
       "      <td>1.0</td>\n",
       "      <td>0.333333</td>\n",
       "      <td>1.0</td>\n",
       "    </tr>\n",
       "    <tr>\n",
       "      <th>Alex</th>\n",
       "      <td>NaN</td>\n",
       "      <td>0.0</td>\n",
       "      <td>0.5</td>\n",
       "      <td>1.0</td>\n",
       "      <td>0.333333</td>\n",
       "      <td>1.0</td>\n",
       "    </tr>\n",
       "  </tbody>\n",
       "</table>\n",
       "</div>"
      ],
      "text/plain": [
       "        Wonder Woman  Girls Trip   Power Rangers  Planet of the Apes  \\\n",
       "Adriel           0.0          NaN            1.0                 1.0   \n",
       "Adalyz           1.0          0.5            0.0                 NaN   \n",
       "Carmen           1.0          1.0            NaN                 0.0   \n",
       "Jack             NaN          0.0            1.0                 1.0   \n",
       "Alex             NaN          0.0            0.5                 1.0   \n",
       "\n",
       "        Beauty and the Beast   Fast and The Furious  \n",
       "Adriel               0.000000                   1.0  \n",
       "Adalyz               1.000000                   0.5  \n",
       "Carmen               0.666667                   0.0  \n",
       "Jack                 0.333333                   1.0  \n",
       "Alex                 0.333333                   1.0  "
      ]
     },
     "execution_count": 53,
     "metadata": {},
     "output_type": "execute_result"
    }
   ],
   "source": [
    "normalized = (reviews - reviews.min()) / (reviews.max() - reviews.min())\n",
    "normalized"
   ]
  },
  {
   "cell_type": "markdown",
   "metadata": {},
   "source": [
    "<b> We replace <i>'blank/NaN' </i> values with '0' for easier viewing. </b>"
   ]
  },
  {
   "cell_type": "code",
   "execution_count": 54,
   "metadata": {},
   "outputs": [
    {
     "data": {
      "text/html": [
       "<div>\n",
       "<style>\n",
       "    .dataframe thead tr:only-child th {\n",
       "        text-align: right;\n",
       "    }\n",
       "\n",
       "    .dataframe thead th {\n",
       "        text-align: left;\n",
       "    }\n",
       "\n",
       "    .dataframe tbody tr th {\n",
       "        vertical-align: top;\n",
       "    }\n",
       "</style>\n",
       "<table border=\"1\" class=\"dataframe\">\n",
       "  <thead>\n",
       "    <tr style=\"text-align: right;\">\n",
       "      <th></th>\n",
       "      <th>Wonder Woman</th>\n",
       "      <th>Girls Trip</th>\n",
       "      <th>Power Rangers</th>\n",
       "      <th>Planet of the Apes</th>\n",
       "      <th>Beauty and the Beast</th>\n",
       "      <th>Fast and The Furious</th>\n",
       "    </tr>\n",
       "  </thead>\n",
       "  <tbody>\n",
       "    <tr>\n",
       "      <th>Adriel</th>\n",
       "      <td>0.0</td>\n",
       "      <td>0.0</td>\n",
       "      <td>1.0</td>\n",
       "      <td>1.0</td>\n",
       "      <td>0.000000</td>\n",
       "      <td>1.0</td>\n",
       "    </tr>\n",
       "    <tr>\n",
       "      <th>Adalyz</th>\n",
       "      <td>1.0</td>\n",
       "      <td>0.5</td>\n",
       "      <td>0.0</td>\n",
       "      <td>0.0</td>\n",
       "      <td>1.000000</td>\n",
       "      <td>0.5</td>\n",
       "    </tr>\n",
       "    <tr>\n",
       "      <th>Carmen</th>\n",
       "      <td>1.0</td>\n",
       "      <td>1.0</td>\n",
       "      <td>0.0</td>\n",
       "      <td>0.0</td>\n",
       "      <td>0.666667</td>\n",
       "      <td>0.0</td>\n",
       "    </tr>\n",
       "    <tr>\n",
       "      <th>Jack</th>\n",
       "      <td>0.0</td>\n",
       "      <td>0.0</td>\n",
       "      <td>1.0</td>\n",
       "      <td>1.0</td>\n",
       "      <td>0.333333</td>\n",
       "      <td>1.0</td>\n",
       "    </tr>\n",
       "    <tr>\n",
       "      <th>Alex</th>\n",
       "      <td>0.0</td>\n",
       "      <td>0.0</td>\n",
       "      <td>0.5</td>\n",
       "      <td>1.0</td>\n",
       "      <td>0.333333</td>\n",
       "      <td>1.0</td>\n",
       "    </tr>\n",
       "  </tbody>\n",
       "</table>\n",
       "</div>"
      ],
      "text/plain": [
       "        Wonder Woman  Girls Trip   Power Rangers  Planet of the Apes  \\\n",
       "Adriel           0.0          0.0            1.0                 1.0   \n",
       "Adalyz           1.0          0.5            0.0                 0.0   \n",
       "Carmen           1.0          1.0            0.0                 0.0   \n",
       "Jack             0.0          0.0            1.0                 1.0   \n",
       "Alex             0.0          0.0            0.5                 1.0   \n",
       "\n",
       "        Beauty and the Beast   Fast and The Furious  \n",
       "Adriel               0.000000                   1.0  \n",
       "Adalyz               1.000000                   0.5  \n",
       "Carmen               0.666667                   0.0  \n",
       "Jack                 0.333333                   1.0  \n",
       "Alex                 0.333333                   1.0  "
      ]
     },
     "execution_count": 54,
     "metadata": {},
     "output_type": "execute_result"
    }
   ],
   "source": [
    "normalized.replace(np.NaN, 0)"
   ]
  },
  {
   "cell_type": "markdown",
   "metadata": {},
   "source": [
    "<b> Now lets see the normalized data average ratings for each user. </b>"
   ]
  },
  {
   "cell_type": "code",
   "execution_count": 55,
   "metadata": {},
   "outputs": [
    {
     "data": {
      "text/plain": [
       "Adriel    0.600000\n",
       "Adalyz    0.600000\n",
       "Carmen    0.533333\n",
       "Jack      0.666667\n",
       "Alex      0.566667\n",
       "dtype: float64"
      ]
     },
     "execution_count": 55,
     "metadata": {},
     "output_type": "execute_result"
    }
   ],
   "source": [
    "normalized_avg_by_user = normalized.mean(axis = 1)\n",
    "normalized_avg_by_user"
   ]
  },
  {
   "cell_type": "markdown",
   "metadata": {},
   "source": [
    "<b> Now lets see the normalized data average ratings for each movie. </b>"
   ]
  },
  {
   "cell_type": "code",
   "execution_count": 56,
   "metadata": {},
   "outputs": [
    {
     "data": {
      "text/plain": [
       "Wonder Woman             0.666667\n",
       "Girls Trip               0.375000\n",
       "Power Rangers            0.625000\n",
       "Planet of the Apes       0.750000\n",
       "Beauty and the Beast     0.466667\n",
       "Fast and The Furious     0.700000\n",
       "dtype: float64"
      ]
     },
     "execution_count": 56,
     "metadata": {},
     "output_type": "execute_result"
    }
   ],
   "source": [
    "normalized_avg_by_movie = normalized.mean()\n",
    "normalized_avg_by_movie"
   ]
  },
  {
   "cell_type": "markdown",
   "metadata": {},
   "source": [
    "<h1>Normalized Data Conclusion:</h1>\n",
    "\n",
    "<b>Normalized data can have its advantages as well as its disadvantages. Normailized data can help users get a better look at the data by accounting for anomalies such as outliners and/or duplicates. Normalization serves the purpose of bringing the indicators into the same unit. A disadvantage of normalized data can be the <i>'null'</i> values. It creates null values which can become unrealiable data and confusing to the user. Having normalized data can as well have its advantages. One advantage is it gives users a better scale of viewing 'normal' data that can be used in graphs for plotting if needed for graphical viewing. Below is the common format to normalize data:</b> \n",
    "\n",
    "<b><div align='center'> normalized = ( x - x.min() ) / ( x.max() - x.min() ) </div></b>"
   ]
  },
  {
   "cell_type": "markdown",
   "metadata": {},
   "source": [
    "<hr>"
   ]
  },
  {
   "cell_type": "markdown",
   "metadata": {},
   "source": [
    "<b> Now lets look a the same data but standardized. \n",
    "We will begin by reading the data from the same .csv file, then show the average ratings for each user and movie.</b>"
   ]
  },
  {
   "cell_type": "markdown",
   "metadata": {},
   "source": [
    "<h1> STANDARDIZED DATA </h1>"
   ]
  },
  {
   "cell_type": "code",
   "execution_count": 61,
   "metadata": {},
   "outputs": [
    {
     "data": {
      "text/html": [
       "<div>\n",
       "<style>\n",
       "    .dataframe thead tr:only-child th {\n",
       "        text-align: right;\n",
       "    }\n",
       "\n",
       "    .dataframe thead th {\n",
       "        text-align: left;\n",
       "    }\n",
       "\n",
       "    .dataframe tbody tr th {\n",
       "        vertical-align: top;\n",
       "    }\n",
       "</style>\n",
       "<table border=\"1\" class=\"dataframe\">\n",
       "  <thead>\n",
       "    <tr style=\"text-align: right;\">\n",
       "      <th></th>\n",
       "      <th>Wonder Woman</th>\n",
       "      <th>Girls Trip</th>\n",
       "      <th>Power Rangers</th>\n",
       "      <th>Planet of the Apes</th>\n",
       "      <th>Beauty and the Beast</th>\n",
       "      <th>Fast and The Furious</th>\n",
       "    </tr>\n",
       "  </thead>\n",
       "  <tbody>\n",
       "    <tr>\n",
       "      <th>Adriel</th>\n",
       "      <td>-1.154701</td>\n",
       "      <td>NaN</td>\n",
       "      <td>0.783349</td>\n",
       "      <td>0.5</td>\n",
       "      <td>-1.227881</td>\n",
       "      <td>0.670820</td>\n",
       "    </tr>\n",
       "    <tr>\n",
       "      <th>Adalyz</th>\n",
       "      <td>0.577350</td>\n",
       "      <td>0.261116</td>\n",
       "      <td>-1.305582</td>\n",
       "      <td>NaN</td>\n",
       "      <td>1.403293</td>\n",
       "      <td>-0.447214</td>\n",
       "    </tr>\n",
       "    <tr>\n",
       "      <th>Carmen</th>\n",
       "      <td>0.577350</td>\n",
       "      <td>1.305582</td>\n",
       "      <td>NaN</td>\n",
       "      <td>-1.5</td>\n",
       "      <td>0.526235</td>\n",
       "      <td>-1.565248</td>\n",
       "    </tr>\n",
       "    <tr>\n",
       "      <th>Jack</th>\n",
       "      <td>NaN</td>\n",
       "      <td>-0.783349</td>\n",
       "      <td>0.783349</td>\n",
       "      <td>0.5</td>\n",
       "      <td>-0.350823</td>\n",
       "      <td>0.670820</td>\n",
       "    </tr>\n",
       "    <tr>\n",
       "      <th>Alex</th>\n",
       "      <td>NaN</td>\n",
       "      <td>-0.783349</td>\n",
       "      <td>-0.261116</td>\n",
       "      <td>0.5</td>\n",
       "      <td>-0.350823</td>\n",
       "      <td>0.670820</td>\n",
       "    </tr>\n",
       "  </tbody>\n",
       "</table>\n",
       "</div>"
      ],
      "text/plain": [
       "        Wonder Woman  Girls Trip   Power Rangers  Planet of the Apes  \\\n",
       "Adriel     -1.154701          NaN       0.783349                 0.5   \n",
       "Adalyz      0.577350     0.261116      -1.305582                 NaN   \n",
       "Carmen      0.577350     1.305582            NaN                -1.5   \n",
       "Jack             NaN    -0.783349       0.783349                 0.5   \n",
       "Alex             NaN    -0.783349      -0.261116                 0.5   \n",
       "\n",
       "        Beauty and the Beast   Fast and The Furious  \n",
       "Adriel              -1.227881              0.670820  \n",
       "Adalyz               1.403293             -0.447214  \n",
       "Carmen               0.526235             -1.565248  \n",
       "Jack                -0.350823              0.670820  \n",
       "Alex                -0.350823              0.670820  "
      ]
     },
     "execution_count": 61,
     "metadata": {},
     "output_type": "execute_result"
    }
   ],
   "source": [
    "standardized = (reviews - reviews.mean())/reviews.std()\n",
    "standardized"
   ]
  },
  {
   "cell_type": "markdown",
   "metadata": {},
   "source": [
    "<b> We replace <i>'blank/NaN' </i> values with '0' for easier viewing. </b>"
   ]
  },
  {
   "cell_type": "code",
   "execution_count": 58,
   "metadata": {},
   "outputs": [
    {
     "data": {
      "text/html": [
       "<div>\n",
       "<style>\n",
       "    .dataframe thead tr:only-child th {\n",
       "        text-align: right;\n",
       "    }\n",
       "\n",
       "    .dataframe thead th {\n",
       "        text-align: left;\n",
       "    }\n",
       "\n",
       "    .dataframe tbody tr th {\n",
       "        vertical-align: top;\n",
       "    }\n",
       "</style>\n",
       "<table border=\"1\" class=\"dataframe\">\n",
       "  <thead>\n",
       "    <tr style=\"text-align: right;\">\n",
       "      <th></th>\n",
       "      <th>Wonder Woman</th>\n",
       "      <th>Girls Trip</th>\n",
       "      <th>Power Rangers</th>\n",
       "      <th>Planet of the Apes</th>\n",
       "      <th>Beauty and the Beast</th>\n",
       "      <th>Fast and The Furious</th>\n",
       "    </tr>\n",
       "  </thead>\n",
       "  <tbody>\n",
       "    <tr>\n",
       "      <th>Adriel</th>\n",
       "      <td>-1.154701</td>\n",
       "      <td>0.000000</td>\n",
       "      <td>0.783349</td>\n",
       "      <td>0.5</td>\n",
       "      <td>-1.227881</td>\n",
       "      <td>0.670820</td>\n",
       "    </tr>\n",
       "    <tr>\n",
       "      <th>Adalyz</th>\n",
       "      <td>0.577350</td>\n",
       "      <td>0.261116</td>\n",
       "      <td>-1.305582</td>\n",
       "      <td>0.0</td>\n",
       "      <td>1.403293</td>\n",
       "      <td>-0.447214</td>\n",
       "    </tr>\n",
       "    <tr>\n",
       "      <th>Carmen</th>\n",
       "      <td>0.577350</td>\n",
       "      <td>1.305582</td>\n",
       "      <td>0.000000</td>\n",
       "      <td>-1.5</td>\n",
       "      <td>0.526235</td>\n",
       "      <td>-1.565248</td>\n",
       "    </tr>\n",
       "    <tr>\n",
       "      <th>Jack</th>\n",
       "      <td>0.000000</td>\n",
       "      <td>-0.783349</td>\n",
       "      <td>0.783349</td>\n",
       "      <td>0.5</td>\n",
       "      <td>-0.350823</td>\n",
       "      <td>0.670820</td>\n",
       "    </tr>\n",
       "    <tr>\n",
       "      <th>Alex</th>\n",
       "      <td>0.000000</td>\n",
       "      <td>-0.783349</td>\n",
       "      <td>-0.261116</td>\n",
       "      <td>0.5</td>\n",
       "      <td>-0.350823</td>\n",
       "      <td>0.670820</td>\n",
       "    </tr>\n",
       "  </tbody>\n",
       "</table>\n",
       "</div>"
      ],
      "text/plain": [
       "        Wonder Woman  Girls Trip   Power Rangers  Planet of the Apes  \\\n",
       "Adriel     -1.154701     0.000000       0.783349                 0.5   \n",
       "Adalyz      0.577350     0.261116      -1.305582                 0.0   \n",
       "Carmen      0.577350     1.305582       0.000000                -1.5   \n",
       "Jack        0.000000    -0.783349       0.783349                 0.5   \n",
       "Alex        0.000000    -0.783349      -0.261116                 0.5   \n",
       "\n",
       "        Beauty and the Beast   Fast and The Furious  \n",
       "Adriel              -1.227881              0.670820  \n",
       "Adalyz               1.403293             -0.447214  \n",
       "Carmen               0.526235             -1.565248  \n",
       "Jack                -0.350823              0.670820  \n",
       "Alex                -0.350823              0.670820  "
      ]
     },
     "execution_count": 58,
     "metadata": {},
     "output_type": "execute_result"
    }
   ],
   "source": [
    "standardized.replace(np.NaN, 0)"
   ]
  },
  {
   "cell_type": "markdown",
   "metadata": {},
   "source": [
    "<b> Now lets see the standardized data average ratings for each user. </b>"
   ]
  },
  {
   "cell_type": "code",
   "execution_count": 59,
   "metadata": {},
   "outputs": [
    {
     "data": {
      "text/plain": [
       "Adriel   -0.085682\n",
       "Adalyz    0.097793\n",
       "Carmen   -0.131216\n",
       "Jack      0.163999\n",
       "Alex     -0.044894\n",
       "dtype: float64"
      ]
     },
     "execution_count": 59,
     "metadata": {},
     "output_type": "execute_result"
    }
   ],
   "source": [
    "standardized_avg_by_users = standardized.mean(1) \n",
    "standardized_avg_by_users"
   ]
  },
  {
   "cell_type": "markdown",
   "metadata": {},
   "source": [
    "<b> Now lets see the standardized data average ratings for each movie. </b>"
   ]
  },
  {
   "cell_type": "code",
   "execution_count": 1,
   "metadata": {},
   "outputs": [
    {
     "ename": "NameError",
     "evalue": "name 'standardized' is not defined",
     "output_type": "error",
     "traceback": [
      "\u001b[0;31m---------------------------------------------------------------------------\u001b[0m",
      "\u001b[0;31mNameError\u001b[0m                                 Traceback (most recent call last)",
      "\u001b[0;32m<ipython-input-1-7d7c4d0dc2d1>\u001b[0m in \u001b[0;36m<module>\u001b[0;34m\u001b[0m\n\u001b[0;32m----> 1\u001b[0;31m \u001b[0mstandardized_avg_by_movie\u001b[0m \u001b[0;34m=\u001b[0m \u001b[0mstandardized\u001b[0m\u001b[0;34m.\u001b[0m\u001b[0mmean\u001b[0m\u001b[0;34m(\u001b[0m\u001b[0;36m0\u001b[0m\u001b[0;34m)\u001b[0m\u001b[0;34m\u001b[0m\u001b[0;34m\u001b[0m\u001b[0m\n\u001b[0m\u001b[1;32m      2\u001b[0m \u001b[0mstandardized_avg_by_movie\u001b[0m\u001b[0;34m\u001b[0m\u001b[0;34m\u001b[0m\u001b[0m\n",
      "\u001b[0;31mNameError\u001b[0m: name 'standardized' is not defined"
     ]
    }
   ],
   "source": [
    "standardized_avg_by_movie = standardized.mean(0)\n",
    "standardized_avg_by_movie"
   ]
  },
  {
   "cell_type": "markdown",
   "metadata": {},
   "source": [
    "<h1 style=\"color: #FF0000;\">Standardized Data Conclusion:</h1>\n",
    "\n",
    "<b style=\"font-style: italic; color: #006600; font-type: Courier New;\">Algorithms can accomplish better execution if the information has a reliable scale or appropriation. Having institutionalized information helps revolve the information around 0 and to scale in regard to standard deviation. The accompanying organization is utilized to institutionalized information:</b>\n",
    "\n",
    "<b><div align = 'center' style=\"color: purple;\"> standardized = (x - x.mean()) / x.std()  </div></b> "
   ]
  },
  {
   "cell_type": "markdown",
   "metadata": {},
   "source": [
    "<hr>"
   ]
  },
  {
   "cell_type": "markdown",
   "metadata": {},
   "source": [
    "<h1><div align='center'><span style='color:#FF0000'>THANK YOU!</span></div></h1>"
   ]
  },
  {
   "cell_type": "code",
   "execution_count": null,
   "metadata": {},
   "outputs": [],
   "source": []
  }
 ],
 "metadata": {
  "kernelspec": {
   "display_name": "Python 3",
   "language": "python",
   "name": "python3"
  },
  "language_info": {
   "codemirror_mode": {
    "name": "ipython",
    "version": 3
   },
   "file_extension": ".py",
   "mimetype": "text/x-python",
   "name": "python",
   "nbconvert_exporter": "python",
   "pygments_lexer": "ipython3",
   "version": "3.6.7"
  }
 },
 "nbformat": 4,
 "nbformat_minor": 2
}
